{
 "cells": [
  {
   "cell_type": "markdown",
   "id": "a2257102-da03-409e-bed2-f9d0e5db9e21",
   "metadata": {},
   "source": [
    "# Data Import SQL\n",
    "\n",
    "Converting all the empty strings in the csv file into NULL so that we can import it to the MySQL Workbench.\n",
    "\n",
    "- From `.xlsx` to `.csv`: https://cloudconvert.com/xlsx-to-csv"
   ]
  },
  {
   "cell_type": "code",
   "execution_count": 1,
   "id": "85e8392e-706a-426c-9d88-0972730b76b5",
   "metadata": {},
   "outputs": [],
   "source": [
    "import pandas as pd"
   ]
  },
  {
   "cell_type": "markdown",
   "id": "9a03e54d-49d5-4b33-9f02-61bd13e34062",
   "metadata": {},
   "source": [
    "## Converting Vaccination Dataset"
   ]
  },
  {
   "cell_type": "code",
   "execution_count": 19,
   "id": "2502274d-b12b-4c56-8bd8-04b2b091633a",
   "metadata": {},
   "outputs": [],
   "source": [
    "df = pd.read_csv(\"CovidVaccEmpty.csv\")\n",
    "df = df.fillna(\"\\\\N\")\n",
    "df.to_csv(\"CovidVacc.csv\", index=False)"
   ]
  },
  {
   "cell_type": "code",
   "execution_count": 23,
   "id": "2a3092de-035c-4f48-a747-dd6b3242e7a8",
   "metadata": {},
   "outputs": [],
   "source": [
    "df.to_csv(\"CovidVacc.csv\", index=False)"
   ]
  },
  {
   "cell_type": "markdown",
   "id": "a889c501-214f-47ec-936e-148180bc58a5",
   "metadata": {},
   "source": [
    "## Converting Deaths Dataset"
   ]
  },
  {
   "cell_type": "code",
   "execution_count": 26,
   "id": "39388835-3414-41c6-9b11-605efd854e10",
   "metadata": {},
   "outputs": [],
   "source": [
    "df = pd.read_csv(\"CovidDeathsEmpty.csv\")\n",
    "df = df.fillna(\"\\\\N\")\n",
    "df.to_csv(\"CovidDeaths.csv\", index=False)"
   ]
  },
  {
   "cell_type": "markdown",
   "id": "ddbeeb4d-ec78-44ca-89cd-4e4446a78fd1",
   "metadata": {},
   "source": [
    "## Replacing All `NULL` with 0"
   ]
  },
  {
   "cell_type": "code",
   "execution_count": 2,
   "id": "0288653b-a6c6-4a79-8ddf-cb29a0b838d0",
   "metadata": {},
   "outputs": [],
   "source": [
    "df = pd.read_csv(\"./data_viz/table4-infected-rate-location-date.csv\")"
   ]
  },
  {
   "cell_type": "code",
   "execution_count": 3,
   "id": "8c1675ab-7ed5-4dba-8d13-79f1ed7ce3b6",
   "metadata": {},
   "outputs": [],
   "source": [
    "df = df.fillna(0)\n",
    "df.to_csv(\"./data_viz/table4-infected-rate-location-date.csv\", index=False)"
   ]
  }
 ],
 "metadata": {
  "kernelspec": {
   "display_name": "Python 3 (ipykernel)",
   "language": "python",
   "name": "python3"
  },
  "language_info": {
   "codemirror_mode": {
    "name": "ipython",
    "version": 3
   },
   "file_extension": ".py",
   "mimetype": "text/x-python",
   "name": "python",
   "nbconvert_exporter": "python",
   "pygments_lexer": "ipython3",
   "version": "3.9.7"
  }
 },
 "nbformat": 4,
 "nbformat_minor": 5
}
